{
 "cells": [
  {
   "cell_type": "code",
   "execution_count": 18,
   "metadata": {
    "collapsed": false,
    "scrolled": true
   },
   "outputs": [],
   "source": [
    "import GalSP as galsp\n",
    "import numpy as np\n",
    "import pyfits\n",
    "nstar=5\n",
    "xystaro=np.zeros((nstar,3))\n",
    "xystar=np.zeros((nstar,3))\n",
    "xystaro=galsp.galaxygenerate(nstar,1.,1.2)\n",
    "xystar=galsp.galaxyshear(0.1,0.2,xystaro)\n",
    "galaxy1=galsp.galaxyingrid(20,11,11,2.,3.,xystar)\n",
    "pyfits.writeto('aa.fits',galaxy1)"
   ]
  },
  {
   "cell_type": "code",
   "execution_count": null,
   "metadata": {
    "collapsed": false
   },
   "outputs": [],
   "source": []
  },
  {
   "cell_type": "code",
   "execution_count": null,
   "metadata": {
    "collapsed": true
   },
   "outputs": [],
   "source": []
  },
  {
   "cell_type": "code",
   "execution_count": null,
   "metadata": {
    "collapsed": true
   },
   "outputs": [],
   "source": []
  }
 ],
 "metadata": {
  "kernelspec": {
   "display_name": "Python 2",
   "language": "python",
   "name": "python2"
  },
  "language_info": {
   "codemirror_mode": {
    "name": "ipython",
    "version": 2
   },
   "file_extension": ".py",
   "mimetype": "text/x-python",
   "name": "python",
   "nbconvert_exporter": "python",
   "pygments_lexer": "ipython2",
   "version": "2.7.6"
  }
 },
 "nbformat": 4,
 "nbformat_minor": 0
}
